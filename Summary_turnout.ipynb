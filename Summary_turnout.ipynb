{
 "cells": [
  {
   "cell_type": "code",
   "execution_count": 1,
   "id": "41cfcc27-d797-4f27-96fc-111e78d3363b",
   "metadata": {},
   "outputs": [],
   "source": [
    "import numpy as np\n",
    "import pandas as pd\n",
    "\n",
    "import matplotlib.pyplot as plt\n",
    "import statsmodels.formula.api as smf\n",
    "import statsmodels.api as sm\n",
    "import statsmodels"
   ]
  },
  {
   "cell_type": "code",
   "execution_count": null,
   "id": "28dee95c-5e65-4adf-8ec2-a66536be36c4",
   "metadata": {},
   "outputs": [],
   "source": [
    "#read a file\n",
    "df = pd.read_csv(\"full_data.csv\", encoding=\"latin\")\n",
    "df.head(3)"
   ]
  },
  {
   "cell_type": "code",
   "execution_count": 4,
   "id": "85ac2719-3773-4dae-9e83-d90648583783",
   "metadata": {},
   "outputs": [
    {
     "name": "stdout",
     "output_type": "stream",
     "text": [
      "<class 'pandas.core.frame.DataFrame'>\n",
      "RangeIndex: 624 entries, 0 to 623\n",
      "Data columns (total 18 columns):\n",
      " #   Column                                                   Non-Null Count  Dtype  \n",
      "---  ------                                                   --------------  -----  \n",
      " 0   Unnamed: 0                                               624 non-null    int64  \n",
      " 1   ward                                                     624 non-null    object \n",
      " 2   borough                                                  624 non-null    object \n",
      " 3   %_english_is_first_language_of_no_one_in_household_2011  624 non-null    float64\n",
      " 4   median_house_price_2014                                  624 non-null    float64\n",
      " 5   median_household_income_estimate_2012_13                 624 non-null    float64\n",
      " 6   male_life_expectancy_2009_13                             624 non-null    float64\n",
      " 7   female_life_expectancy_2009_13                           624 non-null    float64\n",
      " 8   %_area_that_is_open_space_2014                           624 non-null    float64\n",
      " 9   %_travel_by_bicycle_to_work_2011                         624 non-null    float64\n",
      " 10  turnout_at_mayoral_election_2012                         624 non-null    float64\n",
      " 11  crime_rate_2014_15                                       624 non-null    float64\n",
      " 12  %_bame_2011                                              624 non-null    float64\n",
      " 13  %_all_older_people_aged_65_2015                          624 non-null    float64\n",
      " 14  %_homes_with_good_access_to_nature                       624 non-null    float64\n",
      " 15  %_homes_with_deficiency_in_access_to_nature              624 non-null    float64\n",
      " 16  female_life_expectancy_normalised                        624 non-null    float64\n",
      " 17  male_life_expectancy_normalised                          624 non-null    float64\n",
      "dtypes: float64(15), int64(1), object(2)\n",
      "memory usage: 87.9+ KB\n"
     ]
    }
   ],
   "source": [
    "df.info()"
   ]
  },
  {
   "cell_type": "code",
   "execution_count": null,
   "id": "5ad39032-23f0-4a6f-90ab-06e16ca362b5",
   "metadata": {},
   "outputs": [],
   "source": [
    "#summarise_turnout column(turnout_at_mayoral_election_2012)"
   ]
  },
  {
   "cell_type": "code",
   "execution_count": 17,
   "id": "1055f0d7-afc6-4af0-bfbb-e8b9e51f7552",
   "metadata": {},
   "outputs": [
    {
     "data": {
      "text/plain": [
       "0    25.7\n",
       "1    20.3\n",
       "2    22.5\n",
       "3    25.3\n",
       "4    24.1\n",
       "Name: turnout_at_mayoral_election_2012, dtype: float64"
      ]
     },
     "execution_count": 17,
     "metadata": {},
     "output_type": "execute_result"
    }
   ],
   "source": [
    "turnout = df['turnout_at_mayoral_election_2012']\n",
    "turnout.head(5)"
   ]
  },
  {
   "cell_type": "code",
   "execution_count": 19,
   "id": "01d30ea4-adba-4e02-b9f2-3afef0aaf61d",
   "metadata": {},
   "outputs": [],
   "source": [
    "summary = turnout.describe()"
   ]
  },
  {
   "cell_type": "code",
   "execution_count": 20,
   "id": "f86f22d3-43b4-4f46-b85b-8cfb8cf6242a",
   "metadata": {},
   "outputs": [],
   "source": [
    "variance = turnout.var()"
   ]
  },
  {
   "cell_type": "code",
   "execution_count": 21,
   "id": "4cf0f634-eb67-4b83-8afa-d73c995c16fc",
   "metadata": {},
   "outputs": [],
   "source": [
    "mode = turnout.mode()"
   ]
  },
  {
   "cell_type": "code",
   "execution_count": 25,
   "id": "4b72bbdf-f860-49d8-ac93-ac1cafa4d9ad",
   "metadata": {},
   "outputs": [],
   "source": [
    "range_turnout = turnout.max() - turnout.min()"
   ]
  },
  {
   "cell_type": "code",
   "execution_count": 27,
   "id": "ffaaccbb-c167-45ad-b5bd-ae9754ab8e4c",
   "metadata": {},
   "outputs": [
    {
     "name": "stdout",
     "output_type": "stream",
     "text": [
      "count    624.000000\n",
      "mean      34.134295\n",
      "std        5.336655\n",
      "min       19.300000\n",
      "25%       30.875000\n",
      "50%       34.200000\n",
      "75%       37.600000\n",
      "max       51.700000\n",
      "Name: turnout_at_mayoral_election_2012, dtype: float64\n",
      "variance:  28.479881363954373\n",
      "mode:  0    35.8\n",
      "Name: turnout_at_mayoral_election_2012, dtype: float64\n",
      "range:  32.400000000000006\n"
     ]
    }
   ],
   "source": [
    "#summary\n",
    "print(summary)\n",
    "print(\"variance: \", variance)\n",
    "print(\"mode: \", mode)\n",
    "print(\"range: \", range_turnout)"
   ]
  },
  {
   "cell_type": "code",
   "execution_count": 37,
   "id": "4faf2fee-0ff7-480a-bf79-3f85adb21653",
   "metadata": {},
   "outputs": [],
   "source": [
    "mean = turnout.mean()"
   ]
  },
  {
   "cell_type": "code",
   "execution_count": 32,
   "id": "7b2f6d52-c158-478e-a180-ddfa08c1206f",
   "metadata": {},
   "outputs": [
    {
     "data": {
      "text/plain": [
       "<AxesSubplot:>"
      ]
     },
     "execution_count": 32,
     "metadata": {},
     "output_type": "execute_result"
    },
    {
     "data": {
      "image/png": "[encoded data removed]",
      "text/plain": [
       "<Figure size 432x288 with 1 Axes>"
      ]
     },
     "metadata": {
      "needs_background": "light"
     },
     "output_type": "display_data"
    }
   ],
   "source": [
    "# boxplot\n",
    "df.boxplot(column='turnout_at_mayoral_election_2012')"
   ]
  },
  {
   "cell_type": "code",
   "execution_count": 62,
   "id": "9deda318-56d8-4963-80bf-8193a64dc718",
   "metadata": {},
   "outputs": [
    {
     "data": {
      "image/png": "[encoded data removed]",
      "text/plain": [
       "<Figure size 640x480 with 1 Axes>"
      ]
     },
     "metadata": {},
     "output_type": "display_data"
    }
   ],
   "source": [
    "plt.hist(turnout, color='green', alpha=0.4, bins=25, edgecolor='black')\n",
    "plt.title('Turnout at mayoral election in 2012')\n",
    "plt.xlabel('Turnout')\n",
    "plt.ylabel('Counts')\n",
    "plt.show()"
   ]
  }
 ],
 "metadata": {
  "kernelspec": {
   "display_name": "Python 3 (ipykernel)",
   "language": "python",
   "name": "python3"
  },
  "language_info": {
   "codemirror_mode": {
    "name": "ipython",
    "version": 3
   },
   "file_extension": ".py",
   "mimetype": "text/x-python",
   "name": "python",
   "nbconvert_exporter": "python",
   "pygments_lexer": "ipython3",
   "version": "3.10.5"
  }
 },
 "nbformat": 4,
 "nbformat_minor": 5
}
