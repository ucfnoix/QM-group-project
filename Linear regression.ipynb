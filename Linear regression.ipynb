{
 "cells": [
  {
   "cell_type": "code",
   "execution_count": 2,
   "id": "6b44aeb6-a3d7-41a1-ba6d-86df40a5594e",
   "metadata": {},
   "outputs": [],
   "source": [
    "import numpy as np\n",
    "import pandas as pd\n",
    "\n",
    "import matplotlib.pyplot as plt\n",
    "import statsmodels.formula.api as smf\n",
    "import statsmodels.api as sm\n",
    "import statsmodels\n",
    "\n",
    "from sklearn.linear_model import LinearRegression\n",
    "import sklearn"
   ]
  },
  {
   "cell_type": "code",
   "execution_count": 17,
   "id": "40a4453c-1c5d-4bcf-b25d-692d2fcab561",
   "metadata": {},
   "outputs": [
    {
     "data": {
      "text/html": [
       "<div>\n",
       "<style scoped>\n",
       "    .dataframe tbody tr th:only-of-type {\n",
       "        vertical-align: middle;\n",
       "    }\n",
       "\n",
       "    .dataframe tbody tr th {\n",
       "        vertical-align: top;\n",
       "    }\n",
       "\n",
       "    .dataframe thead th {\n",
       "        text-align: right;\n",
       "    }\n",
       "</style>\n",
       "<table border=\"1\" class=\"dataframe\">\n",
       "  <thead>\n",
       "    <tr style=\"text-align: right;\">\n",
       "      <th></th>\n",
       "      <th>Unnamed: 0</th>\n",
       "      <th>ward</th>\n",
       "      <th>borough</th>\n",
       "      <th>%_english_is_first_language_of_no_one_in_household_2011</th>\n",
       "      <th>median_house_price_2014</th>\n",
       "      <th>median_household_income_estimate_2012_13</th>\n",
       "      <th>male_life_expectancy_2009_13</th>\n",
       "      <th>female_life_expectancy_2009_13</th>\n",
       "      <th>%_area_that_is_open_space_2014</th>\n",
       "      <th>%_travel_by_bicycle_to_work_2011</th>\n",
       "      <th>turnout_at_mayoral_election_2012</th>\n",
       "      <th>crime_rate_2014_15</th>\n",
       "      <th>%_bame_2011</th>\n",
       "      <th>%_all_older_people_aged_65_2015</th>\n",
       "      <th>%_homes_with_good_access_to_nature</th>\n",
       "      <th>%_homes_with_deficiency_in_access_to_nature</th>\n",
       "      <th>female_life_expectancy_normalised</th>\n",
       "      <th>male_life_expectancy_normalised</th>\n",
       "      <th>median_household_income_estimate_2012_13_log</th>\n",
       "    </tr>\n",
       "  </thead>\n",
       "  <tbody>\n",
       "    <tr>\n",
       "      <th>0</th>\n",
       "      <td>1</td>\n",
       "      <td>E05000026</td>\n",
       "      <td>Barking and Dagenham</td>\n",
       "      <td>25.7</td>\n",
       "      <td>173000.0</td>\n",
       "      <td>33920.0</td>\n",
       "      <td>80.2</td>\n",
       "      <td>83.9</td>\n",
       "      <td>21.9</td>\n",
       "      <td>0.8</td>\n",
       "      <td>25.7</td>\n",
       "      <td>138.1</td>\n",
       "      <td>71.9</td>\n",
       "      <td>5.0</td>\n",
       "      <td>98.0</td>\n",
       "      <td>2.0</td>\n",
       "      <td>0.996498</td>\n",
       "      <td>1.005313</td>\n",
       "      <td>10.431760</td>\n",
       "    </tr>\n",
       "    <tr>\n",
       "      <th>1</th>\n",
       "      <td>2</td>\n",
       "      <td>E05000027</td>\n",
       "      <td>Barking and Dagenham</td>\n",
       "      <td>7.9</td>\n",
       "      <td>215000.0</td>\n",
       "      <td>32470.0</td>\n",
       "      <td>77.2</td>\n",
       "      <td>80.6</td>\n",
       "      <td>20.6</td>\n",
       "      <td>1.0</td>\n",
       "      <td>20.3</td>\n",
       "      <td>73.6</td>\n",
       "      <td>29.9</td>\n",
       "      <td>10.0</td>\n",
       "      <td>28.0</td>\n",
       "      <td>72.0</td>\n",
       "      <td>0.957303</td>\n",
       "      <td>0.967708</td>\n",
       "      <td>10.388072</td>\n",
       "    </tr>\n",
       "    <tr>\n",
       "      <th>2</th>\n",
       "      <td>3</td>\n",
       "      <td>E05000028</td>\n",
       "      <td>Barking and Dagenham</td>\n",
       "      <td>10.5</td>\n",
       "      <td>210000.0</td>\n",
       "      <td>33000.0</td>\n",
       "      <td>79.0</td>\n",
       "      <td>79.3</td>\n",
       "      <td>1.9</td>\n",
       "      <td>1.6</td>\n",
       "      <td>22.5</td>\n",
       "      <td>79.9</td>\n",
       "      <td>41.2</td>\n",
       "      <td>8.7</td>\n",
       "      <td>83.0</td>\n",
       "      <td>17.0</td>\n",
       "      <td>0.941863</td>\n",
       "      <td>0.990271</td>\n",
       "      <td>10.404263</td>\n",
       "    </tr>\n",
       "  </tbody>\n",
       "</table>\n",
       "</div>"
      ],
      "text/plain": [
       "   Unnamed: 0       ward               borough  \\\n",
       "0           1  E05000026  Barking and Dagenham   \n",
       "1           2  E05000027  Barking and Dagenham   \n",
       "2           3  E05000028  Barking and Dagenham   \n",
       "\n",
       "   %_english_is_first_language_of_no_one_in_household_2011  \\\n",
       "0                                               25.7         \n",
       "1                                                7.9         \n",
       "2                                               10.5         \n",
       "\n",
       "   median_house_price_2014  median_household_income_estimate_2012_13  \\\n",
       "0                 173000.0                                   33920.0   \n",
       "1                 215000.0                                   32470.0   \n",
       "2                 210000.0                                   33000.0   \n",
       "\n",
       "   male_life_expectancy_2009_13  female_life_expectancy_2009_13  \\\n",
       "0                          80.2                            83.9   \n",
       "1                          77.2                            80.6   \n",
       "2                          79.0                            79.3   \n",
       "\n",
       "   %_area_that_is_open_space_2014  %_travel_by_bicycle_to_work_2011  \\\n",
       "0                            21.9                               0.8   \n",
       "1                            20.6                               1.0   \n",
       "2                             1.9                               1.6   \n",
       "\n",
       "   turnout_at_mayoral_election_2012  crime_rate_2014_15  %_bame_2011  \\\n",
       "0                              25.7               138.1         71.9   \n",
       "1                              20.3                73.6         29.9   \n",
       "2                              22.5                79.9         41.2   \n",
       "\n",
       "   %_all_older_people_aged_65_2015  %_homes_with_good_access_to_nature  \\\n",
       "0                              5.0                                98.0   \n",
       "1                             10.0                                28.0   \n",
       "2                              8.7                                83.0   \n",
       "\n",
       "   %_homes_with_deficiency_in_access_to_nature  \\\n",
       "0                                          2.0   \n",
       "1                                         72.0   \n",
       "2                                         17.0   \n",
       "\n",
       "   female_life_expectancy_normalised  male_life_expectancy_normalised  \\\n",
       "0                           0.996498                         1.005313   \n",
       "1                           0.957303                         0.967708   \n",
       "2                           0.941863                         0.990271   \n",
       "\n",
       "   median_household_income_estimate_2012_13_log  \n",
       "0                                     10.431760  \n",
       "1                                     10.388072  \n",
       "2                                     10.404263  "
      ]
     },
     "execution_count": 17,
     "metadata": {},
     "output_type": "execute_result"
    }
   ],
   "source": [
    "#read a file\n",
    "df = pd.read_csv(\"full_data_221206.csv\", encoding=\"latin\")\n",
    "df.head(3)"
   ]
  },
  {
   "cell_type": "code",
   "execution_count": 18,
   "id": "feac8df1-7299-4f81-9bee-3f27f527152c",
   "metadata": {},
   "outputs": [
    {
     "name": "stdout",
     "output_type": "stream",
     "text": [
      "<class 'pandas.core.frame.DataFrame'>\n",
      "RangeIndex: 624 entries, 0 to 623\n",
      "Data columns (total 19 columns):\n",
      " #   Column                                                   Non-Null Count  Dtype  \n",
      "---  ------                                                   --------------  -----  \n",
      " 0   Unnamed: 0                                               624 non-null    int64  \n",
      " 1   ward                                                     624 non-null    object \n",
      " 2   borough                                                  624 non-null    object \n",
      " 3   %_english_is_first_language_of_no_one_in_household_2011  624 non-null    float64\n",
      " 4   median_house_price_2014                                  624 non-null    float64\n",
      " 5   median_household_income_estimate_2012_13                 624 non-null    float64\n",
      " 6   male_life_expectancy_2009_13                             624 non-null    float64\n",
      " 7   female_life_expectancy_2009_13                           624 non-null    float64\n",
      " 8   %_area_that_is_open_space_2014                           624 non-null    float64\n",
      " 9   %_travel_by_bicycle_to_work_2011                         624 non-null    float64\n",
      " 10  turnout_at_mayoral_election_2012                         624 non-null    float64\n",
      " 11  crime_rate_2014_15                                       624 non-null    float64\n",
      " 12  %_bame_2011                                              624 non-null    float64\n",
      " 13  %_all_older_people_aged_65_2015                          624 non-null    float64\n",
      " 14  %_homes_with_good_access_to_nature                       624 non-null    float64\n",
      " 15  %_homes_with_deficiency_in_access_to_nature              624 non-null    float64\n",
      " 16  female_life_expectancy_normalised                        624 non-null    float64\n",
      " 17  male_life_expectancy_normalised                          624 non-null    float64\n",
      " 18  median_household_income_estimate_2012_13_log             624 non-null    float64\n",
      "dtypes: float64(16), int64(1), object(2)\n",
      "memory usage: 92.8+ KB\n"
     ]
    }
   ],
   "source": [
    "df.info()"
   ]
  },
  {
   "cell_type": "code",
   "execution_count": 19,
   "id": "97c36867-367a-49b4-aeb0-61c4dfa17a0b",
   "metadata": {},
   "outputs": [],
   "source": [
    "df.rename(columns = {'turnout_at_mayoral_election_2012' : 'turnout'}, inplace=True)\n",
    "df.rename(columns = {'median_household_income_estimate_2012_13' : 'income'}, inplace=True)"
   ]
  },
  {
   "cell_type": "code",
   "execution_count": 20,
   "id": "dd57e911-65f4-448a-8005-b83e03f7580f",
   "metadata": {},
   "outputs": [
    {
     "data": {
      "text/plain": [
       "Intercept    19.691103\n",
       "income        0.000368\n",
       "dtype: float64"
      ]
     },
     "execution_count": 20,
     "metadata": {},
     "output_type": "execute_result"
    }
   ],
   "source": [
    "# create a fitted model in one line\n",
    "lm = smf.ols(formula='turnout ~ income', data=df).fit()\n",
    "\n",
    "# print the coefficients\n",
    "lm.params"
   ]
  },
  {
   "cell_type": "code",
   "execution_count": 21,
   "id": "8c04cf6d-9a2b-471f-8622-879b2e055f1b",
   "metadata": {},
   "outputs": [
    {
     "name": "stdout",
     "output_type": "stream",
     "text": [
      "                            OLS Regression Results                            \n",
      "==============================================================================\n",
      "Dep. Variable:                turnout   R-squared:                       0.260\n",
      "Model:                            OLS   Adj. R-squared:                  0.259\n",
      "Method:                 Least Squares   F-statistic:                     219.0\n",
      "Date:                Tue, 06 Dec 2022   Prob (F-statistic):           1.12e-42\n",
      "Time:                        14:28:07   Log-Likelihood:                -1835.7\n",
      "No. Observations:                 624   AIC:                             3675.\n",
      "Df Residuals:                     622   BIC:                             3684.\n",
      "Df Model:                           1                                         \n",
      "Covariance Type:            nonrobust                                         \n",
      "==============================================================================\n",
      "                 coef    std err          t      P>|t|      [0.025      0.975]\n",
      "------------------------------------------------------------------------------\n",
      "Intercept     19.6911      0.993     19.827      0.000      17.741      21.641\n",
      "income         0.0004   2.49e-05     14.799      0.000       0.000       0.000\n",
      "==============================================================================\n",
      "Omnibus:                       78.201   Durbin-Watson:                   1.226\n",
      "Prob(Omnibus):                  0.000   Jarque-Bera (JB):              128.703\n",
      "Skew:                          -0.807   Prob(JB):                     1.13e-28\n",
      "Kurtosis:                       4.532   Cond. No.                     2.16e+05\n",
      "==============================================================================\n",
      "\n",
      "Notes:\n",
      "[1] Standard Errors assume that the covariance matrix of the errors is correctly specified.\n",
      "[2] The condition number is large, 2.16e+05. This might indicate that there are\n",
      "strong multicollinearity or other numerical problems.\n"
     ]
    }
   ],
   "source": [
    "# summary \n",
    "print(lm.summary())"
   ]
  },
  {
   "cell_type": "code",
   "execution_count": 10,
   "id": "f40dadac-d769-400f-a45b-09430358c7a3",
   "metadata": {},
   "outputs": [],
   "source": [
    "# the Model for Prediction (𝑦 = 𝛽0 + 𝛽1𝑥)\n",
    "# 𝑦 = 19.691103 + 0.000368 × 𝑥"
   ]
  },
  {
   "cell_type": "code",
   "execution_count": 22,
   "id": "fb60fe8e-d625-42dc-8fd5-708553d4560a",
   "metadata": {},
   "outputs": [
    {
     "data": {
      "text/html": [
       "<div>\n",
       "<style scoped>\n",
       "    .dataframe tbody tr th:only-of-type {\n",
       "        vertical-align: middle;\n",
       "    }\n",
       "\n",
       "    .dataframe tbody tr th {\n",
       "        vertical-align: top;\n",
       "    }\n",
       "\n",
       "    .dataframe thead th {\n",
       "        text-align: right;\n",
       "    }\n",
       "</style>\n",
       "<table border=\"1\" class=\"dataframe\">\n",
       "  <thead>\n",
       "    <tr style=\"text-align: right;\">\n",
       "      <th></th>\n",
       "      <th>income</th>\n",
       "    </tr>\n",
       "  </thead>\n",
       "  <tbody>\n",
       "    <tr>\n",
       "      <th>0</th>\n",
       "      <td>38165.0</td>\n",
       "    </tr>\n",
       "  </tbody>\n",
       "</table>\n",
       "</div>"
      ],
      "text/plain": [
       "    income\n",
       "0  38165.0"
      ]
     },
     "execution_count": 22,
     "metadata": {},
     "output_type": "execute_result"
    }
   ],
   "source": [
    "# you have to create a DataFrame since the Statsmodels formula interface expects it\n",
    "# let's use the value of median income\n",
    "X_new = pd.DataFrame({'income': [38165.0]}) \n",
    "X_new"
   ]
  },
  {
   "cell_type": "code",
   "execution_count": 23,
   "id": "6d53db9e-8cce-46e3-b5b1-60b9e8fad8fa",
   "metadata": {},
   "outputs": [
    {
     "data": {
      "text/plain": [
       "0    33.744109\n",
       "dtype: float64"
      ]
     },
     "execution_count": 23,
     "metadata": {},
     "output_type": "execute_result"
    }
   ],
   "source": [
    "# make predictions for those x values and store them\n",
    "preds = lm.predict(X_new)\n",
    "preds"
   ]
  },
  {
   "cell_type": "code",
   "execution_count": 24,
   "id": "9c10b0f5-42f6-4f50-8372-d19f47889463",
   "metadata": {},
   "outputs": [
    {
     "data": {
      "text/plain": [
       "0      32.181027\n",
       "1      31.647112\n",
       "2      31.842267\n",
       "3      32.181027\n",
       "4      33.462423\n",
       "         ...    \n",
       "619    37.122501\n",
       "620    36.831609\n",
       "621    38.194012\n",
       "622    31.617655\n",
       "623    39.931997\n",
       "Length: 624, dtype: float64"
      ]
     },
     "execution_count": 24,
     "metadata": {},
     "output_type": "execute_result"
    }
   ],
   "source": [
    "#estimated value (The voting rate corresponding to income)\n",
    "lm.fittedvalues "
   ]
  },
  {
   "cell_type": "code",
   "execution_count": 25,
   "id": "46fa08f2-ef2c-40fc-b8d9-222710024a48",
   "metadata": {},
   "outputs": [
    {
     "data": {
      "text/plain": [
       "[<matplotlib.lines.Line2D at 0x7efc93c2e950>]"
      ]
     },
     "execution_count": 25,
     "metadata": {},
     "output_type": "execute_result"
    },
    {
     "data": {
      "image/png": "[encoded data removed]",
      "text/plain": [
       "<Figure size 720x432 with 1 Axes>"
      ]
     },
     "metadata": {
      "needs_background": "light"
     },
     "output_type": "display_data"
    }
   ],
   "source": [
    "#scatter plot\n",
    "fig, axs = plt.subplots(figsize = (10, 6))\n",
    "df.plot(kind='scatter', x='income', y='turnout', ax=axs, figsize=(10, 6))\n",
    "# plt.plot(X_new, preds, c='red', linewidth=2) #it doesn't work!\n",
    "plt.plot(df['income'],lm.fittedvalues,color='red', linewidth = 2)"
   ]
  },
  {
   "cell_type": "code",
   "execution_count": null,
   "id": "3434c5a5-65ab-439b-ab89-dd4ffcc9d0bd",
   "metadata": {},
   "outputs": [],
   "source": [
    "#Residual analysis"
   ]
  },
  {
   "cell_type": "code",
   "execution_count": 26,
   "id": "73d1e16b-92bf-433f-b52a-5b9b82fa8050",
   "metadata": {},
   "outputs": [
    {
     "data": {
      "image/png": "[encoded data removed]",
      "text/plain": [
       "<Figure size 432x288 with 1 Axes>"
      ]
     },
     "metadata": {
      "needs_background": "light"
     },
     "output_type": "display_data"
    }
   ],
   "source": [
    "# plot #잔차 분석 시 \n",
    "plt.scatter(lm.fittedvalues, lm.resid)\n",
    "# adding title and labels\n",
    "plt.xlabel('Income')\n",
    "plt.ylabel('Residual')\n",
    "plt.title('Residual vs. Fitted Plot of Income')\n",
    "plt.show()"
   ]
  },
  {
   "cell_type": "code",
   "execution_count": 27,
   "id": "29281e9b-3335-4d1c-9a5f-468bb3fa386c",
   "metadata": {},
   "outputs": [
    {
     "data": {
      "text/plain": [
       "1.2255457579679145"
      ]
     },
     "execution_count": 27,
     "metadata": {},
     "output_type": "execute_result"
    }
   ],
   "source": [
    "# The Durbin-Watson test statistic is to test the correlation of the residuals - are they independent?\n",
    "# The null hypothesis of the test is that there is no serial correlation in the residuals\n",
    "# The test statistic is approximately equal to 2*(1-r) where r is the sample autocorrelation of the residuals. \n",
    "# Thus, for r == 0, indicating no serial correlation, the test statistic equals 2. This statistic will always be between 0 and 4. \n",
    "# The closer to 0 the statistic, the more evidence for positive serial correlation. The closer to 4, the more evidence for negative serial correlation.\n",
    "\n",
    "statsmodels.stats.stattools.durbin_watson(lm.resid)"
   ]
  },
  {
   "cell_type": "code",
   "execution_count": 28,
   "id": "e266d9ef-0c8a-4961-953e-af3509d8e1f7",
   "metadata": {},
   "outputs": [
    {
     "data": {
      "text/plain": [
       "(128.7029810476554,\n",
       " 1.1285031177452477e-28,\n",
       " -0.8066132048138192,\n",
       " 4.532192940513359)"
      ]
     },
     "execution_count": 28,
     "metadata": {},
     "output_type": "execute_result"
    }
   ],
   "source": [
    "# The Jarque-Bera test statistic (JB) tests the null that the data is normally distributed against an alternative that the data follow some other distribution. \n",
    "# The test statistic is based on two moments of the data, the skewness, and the kurtosis, and has an asymptotic chi-squared distribution.\n",
    "# The test statistic of the JB test is always a positive number. If it's far from zero, it indicates that the sample data do not have a normal distribution.\n",
    "\n",
    "statsmodels.stats.stattools.jarque_bera(lm.resid)"
   ]
  },
  {
   "cell_type": "code",
   "execution_count": null,
   "id": "8baba673-5cb1-4f7a-9197-a53a69fa302b",
   "metadata": {},
   "outputs": [],
   "source": [
    "# 2 variables: correlation\n",
    "# linear regression (y: turnout, x: income) and check the LINE assumptions \n",
    "\n",
    "# Assumptions : There is no relationship between median household income(2012_13) and turnout at mayoral election(2012)\n",
    "# Results\n",
    "# - There is a correlation between income and turnout.\n",
    "# - The accurancy of this model is about 26%."
   ]
  },
  {
   "cell_type": "code",
   "execution_count": null,
   "id": "f267d3c1-21bb-4672-946c-d84a736f54aa",
   "metadata": {},
   "outputs": [],
   "source": [
    "# using Linear Regression in sklearn"
   ]
  },
  {
   "cell_type": "code",
   "execution_count": 18,
   "id": "0f90dfab-4b08-43c5-87b5-328c9f3e2896",
   "metadata": {},
   "outputs": [],
   "source": [
    "x = df['income'].values.reshape(-1,1) \n",
    "y = df['turnout']\n",
    " \n",
    "fit = LinearRegression().fit(x,y) "
   ]
  },
  {
   "cell_type": "code",
   "execution_count": 19,
   "id": "aea9db2f-ad8b-41ff-9dcb-00be6d1246e2",
   "metadata": {},
   "outputs": [
    {
     "name": "stdout",
     "output_type": "stream",
     "text": [
      "19.691103152006328\n",
      "[0.00036822]\n"
     ]
    }
   ],
   "source": [
    "# print the coefficients #same results as above\n",
    "print(fit.intercept_) #intercept\n",
    "print(fit.coef_) #slope"
   ]
  },
  {
   "cell_type": "code",
   "execution_count": 20,
   "id": "aeb04015-3b3f-4913-927c-94445cfcf4e0",
   "metadata": {},
   "outputs": [
    {
     "data": {
      "text/plain": [
       "array([32.18102709, 31.6471123 , 31.84226736, 32.18102709, 33.46242259,\n",
       "       31.79439914, 30.54614318, 31.93432164, 31.23102698, 34.62967079,\n",
       "       31.30098823, 31.42249987, 32.02269374, 31.68761618, 31.91591078,\n",
       "       31.45932158, 33.38141483, 34.34614362, 30.51668581, 34.03684126,\n",
       "       30.80021298, 33.71649239, 34.37191882, 34.84691887, 33.83432186,\n",
       "       36.27191904, 39.23974884, 34.71436072, 33.90060093, 33.87850791,\n",
       "       35.8705624 , 35.12676387, 35.03470959, 36.68432219, 33.32986443,\n",
       "       35.17463209, 32.61184109, 33.76436061, 33.75699627, 32.03005808,\n",
       "       34.70699638, 34.54498085, 34.71067855, 34.48974829, 32.37618215,\n",
       "       32.54187985, 32.77385662, 33.89691876, 33.0426551 , 31.9011821 ,\n",
       "       34.05156994, 32.81067833, 34.74381809, 30.71184087, 33.36300397,\n",
       "       35.8963376 , 33.87114357, 34.8690119 , 31.51087197, 31.19788744,\n",
       "       32.44246123, 34.42715138, 31.102151  , 32.0153294 , 32.79594964,\n",
       "       29.64401129, 32.4461434 , 35.22618248, 32.30990307, 33.25253884,\n",
       "       34.82482585, 32.93218997, 35.48025228, 32.61920544, 29.19110426,\n",
       "       32.03742242, 31.89013558, 31.33412777, 31.12056185, 31.24943783,\n",
       "       37.06726797, 34.76222894, 34.60757776, 35.6938182 , 36.20563996,\n",
       "       36.7211439 , 35.02734525, 35.58703524, 31.5587402 , 31.37831382,\n",
       "       32.23257748, 35.45447708, 36.10990352, 36.50389581, 36.1504074 ,\n",
       "       31.59556191, 33.71649239, 32.98005819, 37.56067888, 34.22094981,\n",
       "       37.37288816, 36.70641522, 39.08877983, 34.54498085, 36.57017489,\n",
       "       34.07366297, 36.9236633 , 41.89827629, 34.41610487, 42.82986554,\n",
       "       32.84750004, 37.30660908, 34.48606612, 34.87269407, 32.47928294,\n",
       "       31.80176348, 32.3062209 , 30.92172462, 38.22715183, 36.73587258,\n",
       "       33.70912804, 33.90428311, 32.03742242, 31.10583317, 35.39924452,\n",
       "       36.85370205, 35.25195768, 34.09943817, 29.52986399, 34.33509711,\n",
       "       35.95157017, 30.28470904, 33.2451745 , 36.11358569, 37.00835323,\n",
       "       31.18684093, 36.378702  , 34.23567849, 32.36881781, 32.10738367,\n",
       "       33.4734691 , 32.44246123, 31.6213371 , 32.16998058, 33.1310272 ,\n",
       "       35.05680262, 30.49827496, 36.45970976, 35.74536859, 31.81649216,\n",
       "       34.04052343, 30.92172462, 32.73335274, 36.17250042, 33.02792641,\n",
       "       31.66552315, 37.54226803, 33.12366286, 31.45563941, 30.20370128,\n",
       "       30.37676331, 32.96164734, 32.32094959, 29.97540668, 29.68819734,\n",
       "       38.16455492, 36.71746173, 33.05738378, 35.08257782, 33.07579464,\n",
       "       35.73432208, 29.26842985, 30.53509667, 30.82598817, 36.61436094,\n",
       "       30.59032923, 35.72327557, 31.03218975, 30.04168576, 33.67230633,\n",
       "       30.20738345, 31.93800381, 34.97947703, 35.43238406, 35.26668637,\n",
       "       30.35467029, 30.17792608, 36.58490357, 31.3046704 , 37.79265565,\n",
       "       33.66125982, 33.82695751, 35.56862438, 33.3593218 , 32.30253873,\n",
       "       31.35990296, 35.25563985, 32.85118221, 32.70389537, 35.0973065 ,\n",
       "       31.61765493, 34.06261646, 32.37618215, 30.83335251, 32.04110459,\n",
       "       34.44556224, 33.73122107, 31.66184098, 36.42657022, 33.76804278,\n",
       "       34.07366297, 32.674438  , 32.83645352, 32.97637602, 32.56765504,\n",
       "       31.46300375, 32.61920544, 34.39769402, 32.79594964, 33.21203496,\n",
       "       32.05215111, 35.30350807, 33.44401173, 31.80176348, 35.88160892,\n",
       "       33.84905054, 35.65331432, 31.06532929, 35.20408946, 35.15990341,\n",
       "       34.23567849, 38.19033012, 34.23936066, 39.32812095, 40.20815981,\n",
       "       36.44866325, 35.95525234, 33.105252  , 37.34343079, 31.42249987,\n",
       "       38.6358728 , 32.41300386, 30.86280988, 38.8641674 , 38.08354716,\n",
       "       33.37036831, 39.46804344, 34.51552349, 39.54168686, 30.96591067,\n",
       "       28.92967012, 31.64343013, 32.02637591, 36.17986477, 30.3399416 ,\n",
       "       29.75815859, 31.14633705, 29.63664695, 31.47773243, 35.29614373,\n",
       "       34.37928316, 32.06319762, 33.51765515, 34.28354672, 33.29304272,\n",
       "       35.28509722, 36.06571747, 34.08470948, 31.79808131, 33.83063969,\n",
       "       32.37618215, 35.87424458, 37.8883921 , 32.58974807, 34.53393434,\n",
       "       31.52191849, 32.61920544, 34.12889553, 31.50350763, 34.49711263,\n",
       "       32.67075583, 35.24827551, 32.47928294, 35.81532984, 30.51668581,\n",
       "       34.3240506 , 33.31881792, 32.05951545, 30.57560055, 34.37928316,\n",
       "       32.88063957, 34.42346921, 32.38354649, 33.37405049, 33.73122107,\n",
       "       31.9011821 , 35.06048479, 37.21087264, 31.40040684, 30.99536804,\n",
       "       32.44246123, 35.88160892, 32.72967057, 37.13722922, 33.67967068,\n",
       "       31.90486427, 33.40719002, 37.64905098, 35.6938182 , 36.83160903,\n",
       "       35.6422678 , 31.41145336, 34.44188007, 30.89594942, 34.96106617,\n",
       "       32.30990307, 31.72443789, 35.69750037, 31.93063946, 31.59924408,\n",
       "       31.42618204, 32.59343024, 38.7757953 , 37.98412854, 31.05428277,\n",
       "       31.7870348 , 32.21416663, 31.16106573, 32.33567827, 32.05583328,\n",
       "       32.22153097, 30.54982535, 32.88432175, 31.66920533, 34.39032967,\n",
       "       31.43354638, 32.50137596, 35.20777163, 33.32986443, 37.02676409,\n",
       "       36.24982601, 34.12521336, 32.88800392, 34.63703513, 35.65331432,\n",
       "       32.07056196, 37.29556257, 35.81901201, 34.08470948, 32.73703491,\n",
       "       34.22463198, 34.16203507, 34.73645374, 36.69905087, 35.84478721,\n",
       "       33.71649239, 39.8288962 , 43.37482685, 43.80932302, 35.73063991,\n",
       "       42.45060193, 35.86319806, 35.92947714, 30.77443778, 41.0845165 ,\n",
       "       39.85835357, 39.36494266, 33.20098845, 40.20447764, 43.12075705,\n",
       "       39.77734581, 42.00505924, 32.98374036, 39.93936133, 34.93160881,\n",
       "       35.27773288, 34.67753901, 36.48180279, 33.39982568, 33.79750015,\n",
       "       36.50021364, 36.0104849 , 34.93897315, 32.44982557, 35.06784913,\n",
       "       35.10098867, 36.23509733, 35.58335307, 33.62443811, 37.56067888,\n",
       "       34.5523452 , 34.0699808 , 37.92521381, 36.24614384, 31.55505802,\n",
       "       34.22831415, 33.18625977, 35.04575611, 33.29672489, 33.41087219,\n",
       "       34.12521336, 33.53606601, 34.37560099, 32.59711241, 34.14362422,\n",
       "       33.20835279, 33.78277146, 35.11203518, 35.0089344 , 32.80331398,\n",
       "       32.51610465, 31.23102698, 36.2130043 , 33.72017456, 34.07734514,\n",
       "       35.36242281, 31.06164711, 30.94381764, 34.77327545, 33.00215122,\n",
       "       34.52657   , 35.43606623, 32.85854655, 31.29730606, 34.09943817,\n",
       "       32.45718991, 33.33722878, 33.39982568, 31.78335263, 36.39711285,\n",
       "       35.27405071, 33.97056218, 30.71184087, 38.06881847, 31.05428277,\n",
       "       32.79226747, 38.64691932, 31.97482552, 32.33936044, 33.95215133,\n",
       "       36.73955475, 31.45195724, 31.59556191, 37.85893473, 31.66920533,\n",
       "       37.13722922, 42.5942066 , 35.95525234, 38.37075649, 32.24730617,\n",
       "       31.33780994, 30.33625943, 31.79439914, 31.41513553, 31.61397276,\n",
       "       31.59924408, 31.26416652, 32.30990307, 32.41300386, 31.31571691,\n",
       "       31.13529053, 30.63819745, 31.31939908, 31.01009672, 31.38199599,\n",
       "       33.89691876, 32.88800392, 31.59556191, 31.58819756, 33.42928305,\n",
       "       34.27986454, 34.16939942, 33.20467062, 36.41184154, 34.95370183,\n",
       "       30.822306  , 33.79013581, 33.52133732, 32.83277135, 32.14420538,\n",
       "       31.29730606, 30.18529042, 32.81067833, 37.65273316, 32.78122096,\n",
       "       34.80273282, 32.38722866, 36.31978726, 32.54187985, 36.76532995,\n",
       "       40.10874119, 40.34440014, 37.66377967, 36.2130043 , 36.90525245,\n",
       "       34.21358547, 36.90893462, 33.29672489, 38.88626043, 38.13877972,\n",
       "       38.41862472, 39.15874108, 39.09246201, 38.61009761, 38.32288827,\n",
       "       38.59905109, 36.27560121, 35.24091117, 33.06106595, 31.41513553,\n",
       "       34.57812039, 33.60234509, 35.37715149, 37.61222927, 31.10951534,\n",
       "       31.01746106, 33.8674614 , 30.32521292, 32.28044571, 32.04110459,\n",
       "       30.74866258, 35.45815926, 35.56494221, 33.30408924, 31.16106573,\n",
       "       34.83587236, 36.41184154, 33.66125982, 41.19498163, 34.1583529 ,\n",
       "       32.79963181, 35.98839188, 35.22986466, 35.99207405, 36.71009739,\n",
       "       35.39188018, 31.12056185, 34.12889553, 32.82172484, 33.70544587,\n",
       "       34.58916691, 35.01261657, 33.23781016, 33.94478699, 33.66862416,\n",
       "       31.59556191, 34.64439947, 33.03160858, 31.79071697, 35.64594998,\n",
       "       33.24149233, 34.78800414, 31.46668592, 30.6197866 , 33.0426551 ,\n",
       "       32.32094959, 31.66184098, 36.9752137 , 31.81649216, 38.38548518,\n",
       "       33.07947681, 34.3866475 , 33.59498074, 33.53606601, 31.73180223,\n",
       "       31.08742231, 33.10893418, 34.15467073, 33.89691876, 32.97637602,\n",
       "       33.07579464, 34.23199632, 32.98742253, 32.50874031, 31.20525178,\n",
       "       32.53819767, 32.64129846, 31.27153086, 31.12056185, 33.94110481,\n",
       "       32.1294767 , 32.30253873, 32.60447675, 32.62656978, 39.36126049,\n",
       "       36.78005863, 36.02521359, 37.73742309, 37.58277191, 33.77172495,\n",
       "       33.66862416, 32.57501938, 38.39284952, 40.24129935, 34.26513586,\n",
       "       30.85544554, 36.15777174, 38.25292702, 37.42443855, 40.082966  ,\n",
       "       32.94691865, 38.62482629, 34.5523452 , 35.62753912, 38.91203563,\n",
       "       38.08722933, 38.60641544, 34.24672501, 29.37153064, 32.57870156,\n",
       "       36.95312067, 52.21571935, 37.84052387, 37.64905098, 36.50389581,\n",
       "       41.18393512, 31.56978671, 36.81688034, 39.0298651 , 37.12250054,\n",
       "       36.83160903, 38.19401229, 31.61765493, 39.93199699])"
      ]
     },
     "execution_count": 20,
     "metadata": {},
     "output_type": "execute_result"
    }
   ],
   "source": [
    "#estimated value (The voting rate corresponding to income)\n",
    "fit.predict(x)"
   ]
  },
  {
   "cell_type": "code",
   "execution_count": 21,
   "id": "dcfea7e3-141f-49a4-b865-6fd9389a0ad8",
   "metadata": {},
   "outputs": [
    {
     "data": {
      "text/plain": [
       "array([33.74410867])"
      ]
     },
     "execution_count": 21,
     "metadata": {},
     "output_type": "execute_result"
    }
   ],
   "source": [
    "fit.predict([[38165.0]])"
   ]
  }
 ],
 "metadata": {
  "kernelspec": {
   "display_name": "Python 3 (ipykernel)",
   "language": "python",
   "name": "python3"
  },
  "language_info": {
   "codemirror_mode": {
    "name": "ipython",
    "version": 3
   },
   "file_extension": ".py",
   "mimetype": "text/x-python",
   "name": "python",
   "nbconvert_exporter": "python",
   "pygments_lexer": "ipython3",
   "version": "3.10.5"
  }
 },
 "nbformat": 4,
 "nbformat_minor": 5
}
